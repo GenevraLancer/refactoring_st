{
 "cells": [
  {
   "cell_type": "markdown",
   "metadata": {
    "id": "n70nQRb88cw6"
   },
   "source": [
    "# Подготовка среды исполнения программы"
   ]
  },
  {
   "cell_type": "code",
   "execution_count": 88,
   "metadata": {
    "colab": {
     "base_uri": "https://localhost:8080/",
     "height": 52
    },
    "executionInfo": {
     "elapsed": 735,
     "status": "ok",
     "timestamp": 1642605247364,
     "user": {
      "displayName": "Jane Kotova",
      "photoUrl": "https://lh3.googleusercontent.com/a/default-user=s64",
      "userId": "11979680872757623002"
     },
     "user_tz": -180
    },
    "id": "aPTje5kjGlAx",
    "outputId": "a68a3d39-4893-456e-939b-cdeaa5bf27ab"
   },
   "outputs": [
    {
     "name": "stdout",
     "output_type": "stream",
     "text": [
      "pip 21.2.4 from /usr/local/lib/python3.10/site-packages/pip (python 3.10)\n",
      "Python 3.10.2\n"
     ]
    },
    {
     "data": {
      "application/javascript": "\n            setTimeout(function() {\n                var nbb_cell_id = 88;\n                var nbb_unformatted_code = \"# \\u0422\\u0435\\u0441\\u0442 \\u0443\\u0441\\u0442\\u0430\\u043d\\u043e\\u0432\\u043b\\u0435\\u043d\\u043d\\u043e\\u0439 \\u0432\\u0435\\u0440\\u0441\\u0438\\u0438 pip \\u0438 python\\n!pip --version\\n!python --version\";\n                var nbb_formatted_code = \"# \\u0422\\u0435\\u0441\\u0442 \\u0443\\u0441\\u0442\\u0430\\u043d\\u043e\\u0432\\u043b\\u0435\\u043d\\u043d\\u043e\\u0439 \\u0432\\u0435\\u0440\\u0441\\u0438\\u0438 pip \\u0438 python\\n!pip --version\\n!python --version\";\n                var nbb_cells = Jupyter.notebook.get_cells();\n                for (var i = 0; i < nbb_cells.length; ++i) {\n                    if (nbb_cells[i].input_prompt_number == nbb_cell_id) {\n                        if (nbb_cells[i].get_text() == nbb_unformatted_code) {\n                             nbb_cells[i].set_text(nbb_formatted_code);\n                        }\n                        break;\n                    }\n                }\n            }, 500);\n            ",
      "text/plain": [
       "<IPython.core.display.Javascript object>"
      ]
     },
     "metadata": {},
     "output_type": "display_data"
    }
   ],
   "source": [
    "# Тест установленной версии pip и python\n",
    "!pip --version\n",
    "!python --version"
   ]
  },
  {
   "cell_type": "code",
   "execution_count": null,
   "metadata": {},
   "outputs": [],
   "source": [
    "# Тест доступа к файловой системе хост-машины, в которую клонируется гит репозиторий и в которой размещается мигрированный из Студии проект\n",
    "!cd ./gitlab && ls -F"
   ]
  },
  {
   "cell_type": "markdown",
   "metadata": {
    "id": "5V8e635C5bZ7"
   },
   "source": [
    "## Определение и инициализация используемых функций\n",
    "Импортируются используемые библиотеки\n",
    "\n",
    "Инициализируются константы\n",
    "\n",
    "Инициализируются функции def ...()\n"
   ]
  },
  {
   "cell_type": "code",
   "execution_count": null,
   "metadata": {
    "id": "E5aUCJfxvAzW"
   },
   "outputs": [],
   "source": [
    "%run functions.ipynb\n",
    "\n",
    "%load_ext nb_black"
   ]
  },
  {
   "cell_type": "markdown",
   "metadata": {
    "id": "sDehNWpj4xYx"
   },
   "source": [
    "## Константы"
   ]
  },
  {
   "cell_type": "code",
   "execution_count": 4,
   "metadata": {
    "id": "8N922qLa4xCk"
   },
   "outputs": [
    {
     "data": {
      "application/javascript": "\n            setTimeout(function() {\n                var nbb_cell_id = 4;\n                var nbb_unformatted_code = \"# \\u0421\\u0442\\u0440\\u0443\\u043a\\u0442\\u0443\\u0440\\u0430 \\u043f\\u0430\\u043f\\u043e\\u043a\\n# WORKSPACE_DIR/exp-03-supp/ - \\u043f\\u0430\\u043f\\u043a\\u0430 \\u043a\\u043b\\u043e\\u043d\\u0438\\u0440\\u043e\\u0432\\u0430\\u043d\\u043d\\u043e\\u0433\\u043e \\u0433\\u0438\\u0442 \\u0440\\u0435\\u043f\\u043e\\u0437\\u0438\\u0442\\u043e\\u0440\\u0438\\u044f\\n# WORKSPACE_DIR/migration/\\n#                   exp-03-supp/ - \\u043f\\u0430\\u043f\\u043a\\u0430 \\u0438\\u043c\\u043f\\u043e\\u0440\\u0442\\u0438\\u0440\\u043e\\u0432\\u0430\\u043d\\u043d\\u043e\\u0433\\u043e \\u043f\\u0440\\u043e\\u0435\\u043a\\u0442\\u0430\\n#                   exp-03-supp(backup).zip - \\u0431\\u044d\\u043a\\u0430\\u043f\\u0438\\u043c \\u0438\\u043c\\u043f\\u043e\\u0440\\u0442\\u0438\\u0440\\u043e\\u0432\\u0430\\u043d\\u043d\\u044b\\u0439 \\u043f\\u0440\\u043e\\u0435\\u043a\\u0442 \\u043d\\u0430 \\u0432\\u0441\\u044f\\u043a\\u0438\\u0439 \\u0441\\u043b\\u0443\\u0447\\u0430\\u0439\\n\\n# \\u041c\\u0430\\u043f\\u0438\\u043d\\u0433 \\u043f\\u0430\\u043f\\u043e\\u043a \\u0443\\u043a\\u0430\\u0437\\u044b\\u0432\\u0430\\u0435\\u0442\\u0441\\u044f \\u0432 \\u0444\\u0430\\u0439\\u043b\\u0435 docker-compose.yml \\u043a\\u0430\\u043a \\n# volumes:\\n#     - ~/GitLab:/workspace/gitlab\\n# ~/GitLab - \\u043f\\u0430\\u043f\\u043a\\u0430 \\u043d\\u0430 \\u0444\\u0430\\u0439\\u043b\\u043e\\u0432\\u043e\\u0439 \\u0441\\u0438\\u0441\\u0442\\u0435\\u043c\\u0435 \\u0445\\u043e\\u0441\\u0442-\\u043c\\u0430\\u0448\\u0438\\u043d\\u044b, \\u0432 \\u043a\\u043e\\u0442\\u043e\\u0440\\u0443\\u044e \\u043a\\u043b\\u043e\\u043d\\u0438\\u0440\\u0443\\u0435\\u0442\\u0441\\u044f \\u0433\\u0438\\u0442 \\u0440\\u0435\\u043f\\u043e\\u0437\\u0438\\u0442\\u043e\\u0440\\u0438\\u0439 \\u0438 \\u0432 \\u043a\\u043e\\u0442\\u043e\\u0440\\u043e\\u0439 \\u0440\\u0430\\u0437\\u043c\\u0435\\u0449\\u0430\\u0435\\u0442\\u0441\\u044f \\u043c\\u0438\\u0433\\u0440\\u0438\\u0440\\u043e\\u0432\\u0430\\u043d\\u043d\\u044b\\u0439 \\u0438\\u0437 \\u0421\\u0442\\u0443\\u0434\\u0438\\u0438 \\u043f\\u0440\\u043e\\u0435\\u043a\\u0442\\n# /workspace/gitlab - \\u043f\\u0430\\u043f\\u043a\\u0430 \\u043d\\u0430 \\u0444\\u0430\\u0439\\u043b\\u043e\\u0432\\u043e\\u0439 \\u0441\\u0438\\u0441\\u0442\\u0435\\u043c\\u0435 docker-\\u043a\\u043e\\u043d\\u0442\\u0435\\u0439\\u043d\\u0435\\u0440\\u0430, \\u043f\\u0443\\u0442\\u044c \\u0434\\u043e\\u0441\\u0442\\u0443\\u043f\\u0430 \\u043a \\u0434\\u0430\\u043d\\u043d\\u044b\\u043c \\u0438\\u0437 \\u044d\\u0442\\u043e\\u0433\\u043e \\u0431\\u043b\\u043e\\u043a\\u043d\\u043e\\u0442\\u0430\\nWORKSPACE_DIR = './gitlab/'\\nGIT_DIR = f'{WORKSPACE_DIR}exp-03-supp/'\\nMIG_DIR = f'{WORKSPACE_DIR}migration/exp-03-supp/' \\n# MIG_DIR = f'{WORKSPACE_DIR}migration/REF/' # \\u043f\\u0430\\u043f\\u043a\\u0430 \\u0438\\u043c\\u043f\\u043e\\u0440\\u0442\\u0438\\u0440\\u043e\\u0432\\u0430\\u043d\\u043d\\u043e\\u0439 \\u0431\\u0438\\u043d\\u0430\\u0440\\u043d\\u043e\\u0439 \\u0441\\u0431\\u043e\\u0440\\u043a\\u0438\\nGIT_DOCS_DIR = f'{GIT_DIR}Func/docs/'\\nMIG_DOCS_DIR = f'{MIG_DIR}Func/docs/'\\nGIT_LC_DIR = f'{GIT_DIR}Func/config/lifecycles/'\\nMIG_LC_DIR = f'{MIG_DIR}Func/config/lifecycles/'\\nNAVIGATION_DIR = f'{GIT_DIR}Func/config/sufd-interface/setup/navigation/default.navigation'\";\n                var nbb_formatted_code = \"# \\u0421\\u0442\\u0440\\u0443\\u043a\\u0442\\u0443\\u0440\\u0430 \\u043f\\u0430\\u043f\\u043e\\u043a\\n# WORKSPACE_DIR/exp-03-supp/ - \\u043f\\u0430\\u043f\\u043a\\u0430 \\u043a\\u043b\\u043e\\u043d\\u0438\\u0440\\u043e\\u0432\\u0430\\u043d\\u043d\\u043e\\u0433\\u043e \\u0433\\u0438\\u0442 \\u0440\\u0435\\u043f\\u043e\\u0437\\u0438\\u0442\\u043e\\u0440\\u0438\\u044f\\n# WORKSPACE_DIR/migration/\\n#                   exp-03-supp/ - \\u043f\\u0430\\u043f\\u043a\\u0430 \\u0438\\u043c\\u043f\\u043e\\u0440\\u0442\\u0438\\u0440\\u043e\\u0432\\u0430\\u043d\\u043d\\u043e\\u0433\\u043e \\u043f\\u0440\\u043e\\u0435\\u043a\\u0442\\u0430\\n#                   exp-03-supp(backup).zip - \\u0431\\u044d\\u043a\\u0430\\u043f\\u0438\\u043c \\u0438\\u043c\\u043f\\u043e\\u0440\\u0442\\u0438\\u0440\\u043e\\u0432\\u0430\\u043d\\u043d\\u044b\\u0439 \\u043f\\u0440\\u043e\\u0435\\u043a\\u0442 \\u043d\\u0430 \\u0432\\u0441\\u044f\\u043a\\u0438\\u0439 \\u0441\\u043b\\u0443\\u0447\\u0430\\u0439\\n\\n# \\u041c\\u0430\\u043f\\u0438\\u043d\\u0433 \\u043f\\u0430\\u043f\\u043e\\u043a \\u0443\\u043a\\u0430\\u0437\\u044b\\u0432\\u0430\\u0435\\u0442\\u0441\\u044f \\u0432 \\u0444\\u0430\\u0439\\u043b\\u0435 docker-compose.yml \\u043a\\u0430\\u043a\\n# volumes:\\n#     - ~/GitLab:/workspace/gitlab\\n# ~/GitLab - \\u043f\\u0430\\u043f\\u043a\\u0430 \\u043d\\u0430 \\u0444\\u0430\\u0439\\u043b\\u043e\\u0432\\u043e\\u0439 \\u0441\\u0438\\u0441\\u0442\\u0435\\u043c\\u0435 \\u0445\\u043e\\u0441\\u0442-\\u043c\\u0430\\u0448\\u0438\\u043d\\u044b, \\u0432 \\u043a\\u043e\\u0442\\u043e\\u0440\\u0443\\u044e \\u043a\\u043b\\u043e\\u043d\\u0438\\u0440\\u0443\\u0435\\u0442\\u0441\\u044f \\u0433\\u0438\\u0442 \\u0440\\u0435\\u043f\\u043e\\u0437\\u0438\\u0442\\u043e\\u0440\\u0438\\u0439 \\u0438 \\u0432 \\u043a\\u043e\\u0442\\u043e\\u0440\\u043e\\u0439 \\u0440\\u0430\\u0437\\u043c\\u0435\\u0449\\u0430\\u0435\\u0442\\u0441\\u044f \\u043c\\u0438\\u0433\\u0440\\u0438\\u0440\\u043e\\u0432\\u0430\\u043d\\u043d\\u044b\\u0439 \\u0438\\u0437 \\u0421\\u0442\\u0443\\u0434\\u0438\\u0438 \\u043f\\u0440\\u043e\\u0435\\u043a\\u0442\\n# /workspace/gitlab - \\u043f\\u0430\\u043f\\u043a\\u0430 \\u043d\\u0430 \\u0444\\u0430\\u0439\\u043b\\u043e\\u0432\\u043e\\u0439 \\u0441\\u0438\\u0441\\u0442\\u0435\\u043c\\u0435 docker-\\u043a\\u043e\\u043d\\u0442\\u0435\\u0439\\u043d\\u0435\\u0440\\u0430, \\u043f\\u0443\\u0442\\u044c \\u0434\\u043e\\u0441\\u0442\\u0443\\u043f\\u0430 \\u043a \\u0434\\u0430\\u043d\\u043d\\u044b\\u043c \\u0438\\u0437 \\u044d\\u0442\\u043e\\u0433\\u043e \\u0431\\u043b\\u043e\\u043a\\u043d\\u043e\\u0442\\u0430\\nWORKSPACE_DIR = \\\"./gitlab/\\\"\\nGIT_DIR = f\\\"{WORKSPACE_DIR}exp-03-supp/\\\"\\nMIG_DIR = f\\\"{WORKSPACE_DIR}migration/exp-03-supp/\\\"\\n# MIG_DIR = f'{WORKSPACE_DIR}migration/REF/' # \\u043f\\u0430\\u043f\\u043a\\u0430 \\u0438\\u043c\\u043f\\u043e\\u0440\\u0442\\u0438\\u0440\\u043e\\u0432\\u0430\\u043d\\u043d\\u043e\\u0439 \\u0431\\u0438\\u043d\\u0430\\u0440\\u043d\\u043e\\u0439 \\u0441\\u0431\\u043e\\u0440\\u043a\\u0438\\nGIT_DOCS_DIR = f\\\"{GIT_DIR}Func/docs/\\\"\\nMIG_DOCS_DIR = f\\\"{MIG_DIR}Func/docs/\\\"\\nGIT_LC_DIR = f\\\"{GIT_DIR}Func/config/lifecycles/\\\"\\nMIG_LC_DIR = f\\\"{MIG_DIR}Func/config/lifecycles/\\\"\\nNAVIGATION_DIR = (\\n    f\\\"{GIT_DIR}Func/config/sufd-interface/setup/navigation/default.navigation\\\"\\n)\";\n                var nbb_cells = Jupyter.notebook.get_cells();\n                for (var i = 0; i < nbb_cells.length; ++i) {\n                    if (nbb_cells[i].input_prompt_number == nbb_cell_id) {\n                        if (nbb_cells[i].get_text() == nbb_unformatted_code) {\n                             nbb_cells[i].set_text(nbb_formatted_code);\n                        }\n                        break;\n                    }\n                }\n            }, 500);\n            ",
      "text/plain": [
       "<IPython.core.display.Javascript object>"
      ]
     },
     "metadata": {},
     "output_type": "display_data"
    }
   ],
   "source": [
    "# Структура папок\n",
    "# WORKSPACE_DIR/exp-03-supp/ - папка клонированного гит репозитория\n",
    "# WORKSPACE_DIR/migration/\n",
    "#                   exp-03-supp/ - папка импортированного проекта\n",
    "#                   exp-03-supp(backup).zip - бэкапим импортированный проект на всякий случай\n",
    "\n",
    "# Мапинг папок указывается в файле docker-compose.yml как\n",
    "# volumes:\n",
    "#     - ~/GitLab:/workspace/gitlab\n",
    "# ~/GitLab - папка на файловой системе хост-машины, в которую клонируется гит репозиторий и в которой размещается мигрированный из Студии проект\n",
    "# /workspace/gitlab - папка на файловой системе docker-контейнера, путь доступа к данным из этого блокнота\n",
    "WORKSPACE_DIR = \"./gitlab/\"\n",
    "GIT_DIR = f\"{WORKSPACE_DIR}exp-03-supp/\"\n",
    "MIG_DIR = f\"{WORKSPACE_DIR}migration/exp-03-supp/\"\n",
    "# MIG_DIR = f'{WORKSPACE_DIR}migration/REF/' # папка импортированной бинарной сборки\n",
    "GIT_DOCS_DIR = f\"{GIT_DIR}Func/docs/\"\n",
    "MIG_DOCS_DIR = f\"{MIG_DIR}Func/docs/\"\n",
    "GIT_LC_DIR = f\"{GIT_DIR}Func/config/lifecycles/\"\n",
    "MIG_LC_DIR = f\"{MIG_DIR}Func/config/lifecycles/\"\n",
    "NAVIGATION_DIR = (\n",
    "    f\"{GIT_DIR}Func/config/sufd-interface/setup/navigation/default.navigation\"\n",
    ")"
   ]
  },
  {
   "cell_type": "markdown",
   "metadata": {
    "id": "8Z1_X9T3aekq"
   },
   "source": [
    "## Миграция формуляров\n",
    "Файлы desc и другие имеющиеся в папке формуляра файлы копируются в гит папку формуляра\n",
    "\n",
    "Пропускаются файлы ВФ .edit, они копируются отдельно"
   ]
  },
  {
   "cell_type": "code",
   "execution_count": null,
   "metadata": {
    "id": "K23CLDv3FDp1",
    "scrolled": true
   },
   "outputs": [],
   "source": [
    "# ВНИМАНИЕ! Копирование desc, counter и др файлов из папки мигрируемого формуляра в папку гит формуляра\n",
    "copy_file_to_git(prepare_df2())"
   ]
  },
  {
   "cell_type": "code",
   "execution_count": null,
   "metadata": {
    "colab": {
     "base_uri": "https://localhost:8080/",
     "height": 424
    },
    "executionInfo": {
     "elapsed": 2214,
     "status": "ok",
     "timestamp": 1642514024528,
     "user": {
      "displayName": "Jane Kotova",
      "photoUrl": "https://lh3.googleusercontent.com/a/default-user=s64",
      "userId": "11979680872757623002"
     },
     "user_tz": -180
    },
    "id": "sTfh3i2oEvmD",
    "outputId": "14e71128-0f88-4b50-eb6e-b6ef6ce10df1"
   },
   "outputs": [],
   "source": [
    "# Тест\n",
    "# Получение окончательного набора формуляров для копирования\n",
    "# Автоматизировано получение списка формуляров из навигации\n",
    "# Автоматизировано исключение из списка неподходящих формуляров: для ручного копирования, для поиска в бинарках\n",
    "# Автоматизировано добавление в список известных базовых формуляров: {'D_E.desc', 'D_E.ext.desc', 'D_SE.desc', 'D_SE.ext.desc', 'R_E.desc', 'R_E.ext.desc'}\n",
    "# Автоматизировано исключение из списка базовых формуляров тех, которых нет в мигрируемом проекте\n",
    "# Автоматизировано решение конфликта с дублями формуляров в гите: из двух остается максимально близкий по размеру к мигрируемому формуляру\n",
    "prepare_df2()"
   ]
  },
  {
   "cell_type": "code",
   "execution_count": null,
   "metadata": {
    "colab": {
     "base_uri": "https://localhost:8080/",
     "height": 81
    },
    "executionInfo": {
     "elapsed": 2061,
     "status": "ok",
     "timestamp": 1642167083237,
     "user": {
      "displayName": "Jane Kotova",
      "photoUrl": "https://lh3.googleusercontent.com/a/default-user=s64",
      "userId": "11979680872757623002"
     },
     "user_tz": -180
    },
    "id": "Q0mAfmBMG7tF",
    "outputId": "04b37991-a2b4-41e6-b785-65be08de1343"
   },
   "outputs": [
    {
     "data": {
      "text/html": [
       "<div>\n",
       "<style scoped>\n",
       "    .dataframe tbody tr th:only-of-type {\n",
       "        vertical-align: middle;\n",
       "    }\n",
       "\n",
       "    .dataframe tbody tr th {\n",
       "        vertical-align: top;\n",
       "    }\n",
       "\n",
       "    .dataframe thead th {\n",
       "        text-align: right;\n",
       "    }\n",
       "</style>\n",
       "<table border=\"1\" class=\"dataframe\">\n",
       "  <thead>\n",
       "    <tr style=\"text-align: right;\">\n",
       "      <th></th>\n",
       "      <th>formular</th>\n",
       "      <th>size_x</th>\n",
       "      <th>path_x</th>\n",
       "      <th>size_y</th>\n",
       "      <th>path_y</th>\n",
       "    </tr>\n",
       "  </thead>\n",
       "  <tbody>\n",
       "    <tr>\n",
       "      <th>0</th>\n",
       "      <td>E_y.desc</td>\n",
       "      <td>5578</td>\n",
       "      <td>./migration/exp-03-supp/Func/docs/sufd-service...</td>\n",
       "      <td>5578</td>\n",
       "      <td>./exp-03-supp/Func/docs/sufd-services.EXP/setu...</td>\n",
       "    </tr>\n",
       "  </tbody>\n",
       "</table>\n",
       "</div>"
      ],
      "text/plain": [
       "                   formular  size_x  \\\n",
       "0  E_y.desc    5578   \n",
       "\n",
       "                                              path_x  size_y  \\\n",
       "0  ./migration/exp-03-supp/Func/docs/sufd-service...    5578   \n",
       "\n",
       "                                              path_y  \n",
       "0  ./exp-03-supp/Func/docs/sufd-services.EXP/setu...  "
      ]
     },
     "metadata": {},
     "output_type": "display_data"
    },
    {
     "data": {
      "application/javascript": "\n            setTimeout(function() {\n                var nbb_cell_id = 148;\n                var nbb_unformatted_code = \"# \\u041f\\u0440\\u043e\\u0432\\u0435\\u0440\\u0438\\u0442\\u044c \\u043e\\u0442\\u0441\\u0443\\u0442\\u0441\\u0442\\u0432\\u0438\\u0435 \\u0432 \\u0441\\u043f\\u0438\\u0441\\u043a\\u0435\\n# D_n.desc -- calc_navigation_df('nav_to_full_copy')\\n# E_P.ext.desc -- calc_navigation_df('to_manual_copy')\\nprepare_df2().loc[lambda x: x.formular == 'E_y.desc']\";\n                var nbb_formatted_code = \"# \\u041f\\u0440\\u043e\\u0432\\u0435\\u0440\\u0438\\u0442\\u044c \\u043e\\u0442\\u0441\\u0443\\u0442\\u0441\\u0442\\u0432\\u0438\\u0435 \\u0432 \\u0441\\u043f\\u0438\\u0441\\u043a\\u0435\\n# D_n.desc -- calc_navigation_df('nav_to_full_copy')\\n# E_P.ext.desc -- calc_navigation_df('to_manual_copy')\\nprepare_df2().loc[lambda x: x.formular == \\\"E_y.desc\\\"]\";\n                var nbb_cells = Jupyter.notebook.get_cells();\n                for (var i = 0; i < nbb_cells.length; ++i) {\n                    if (nbb_cells[i].input_prompt_number == nbb_cell_id) {\n                        if (nbb_cells[i].get_text() == nbb_unformatted_code) {\n                             nbb_cells[i].set_text(nbb_formatted_code);\n                        }\n                        break;\n                    }\n                }\n            }, 500);\n            ",
      "text/plain": [
       "<IPython.core.display.Javascript object>"
      ]
     },
     "metadata": {},
     "output_type": "display_data"
    }
   ],
   "source": [
    "# Тест\n",
    "# Проверить отсутствие в списке для exp-03-supp\n",
    "# D_n.desc -- calc_navigation_df('nav_to_full_copy')\n",
    "# E_P.ext.desc -- calc_navigation_df('to_manual_copy')\n",
    "prepare_df2().loc[lambda x: x.formular == 'E_y.desc']"
   ]
  },
  {
   "cell_type": "markdown",
   "metadata": {},
   "source": [
    "## Копирование ВФ"
   ]
  },
  {
   "cell_type": "code",
   "execution_count": null,
   "metadata": {},
   "outputs": [],
   "source": [
    "# ВНИМАНИЕ! Копирование edit файлов из папки мигрируемого формуляра в папку гит формуляра\n",
    "batch_edit(prepare_df2())"
   ]
  },
  {
   "cell_type": "code",
   "execution_count": null,
   "metadata": {},
   "outputs": [],
   "source": [
    "def test(): \n",
    "    path = './gitlab/migration/exp-03-supp/Func/docs/sufd-services.dicts/E_y/1.0/E_y.edit'\n",
    "    tags = [tag for tag in xml_elem_generator('path_generator', 'edit_tags', 'studio', path)]\n",
    "    actions = [action for action in xml_elem_generator('path_generator', 'edit_action_group','edit', path)]\n",
    "    conditions = [condition for condition in xml_elem_generator('path_generator', 'edit_condition_group','edit', path)]\n",
    "    print(tags, actions, conditions)\n"
   ]
  },
  {
   "cell_type": "code",
   "execution_count": 177,
   "metadata": {},
   "outputs": [
    {
     "name": "stdout",
     "output_type": "stream",
     "text": [
      "['E_y.edit', 15316, './gitlab/migration/exp-03-supp/Func/docs/sufd-services.dicts/E_y/1.0/E_y.edit']\n",
      "['E_y.edit', 15032, './gitlab/exp-03-supp/Func/docs/sufd-services.dicts/setup/E_y/1.0/E_y.edit']\n"
     ]
    },
    {
     "data": {
      "application/javascript": "\n            setTimeout(function() {\n                var nbb_cell_id = 177;\n                var nbb_unformatted_code = \"simple_print_edit_path('E_y.edit')\";\n                var nbb_formatted_code = \"simple_print_edit_path(\\\"E_y.edit\\\")\";\n                var nbb_cells = Jupyter.notebook.get_cells();\n                for (var i = 0; i < nbb_cells.length; ++i) {\n                    if (nbb_cells[i].input_prompt_number == nbb_cell_id) {\n                        if (nbb_cells[i].get_text() == nbb_unformatted_code) {\n                             nbb_cells[i].set_text(nbb_formatted_code);\n                        }\n                        break;\n                    }\n                }\n            }, 500);\n            ",
      "text/plain": [
       "<IPython.core.display.Javascript object>"
      ]
     },
     "metadata": {},
     "output_type": "display_data"
    }
   ],
   "source": [
    "simple_print_edit_path(\"E_y.edit\")"
   ]
  },
  {
   "cell_type": "markdown",
   "metadata": {
    "id": "6NDOYJzoyDQJ"
   },
   "source": [
    "## Обработка массива ЖЦ"
   ]
  },
  {
   "cell_type": "code",
   "execution_count": null,
   "metadata": {
    "id": "CWpQZvoUA1GM"
   },
   "outputs": [],
   "source": [
    "# ВНИМАНИЕ! Изменение всех жц!\n",
    "batch_lc(prepare_lc_df(\"nav_to_copy\", \"lc_to_copy\"))"
   ]
  },
  {
   "cell_type": "code",
   "execution_count": null,
   "metadata": {
    "id": "ucpqVy6xLk6k"
   },
   "outputs": [],
   "source": [
    "# Тест\n",
    "# Получение окончательного списка ЖЦ для копирования\n",
    "# Автоматизировано получение списка формуляров из навигации и получение их ЖЦ\n",
    "# Автоматизировано добавление в список родительских ЖЦ из всех ЖЦ гит проекта\n",
    "prepare_lc_df(\"nav_to_copy\", \"lc_to_copy\")"
   ]
  },
  {
   "cell_type": "code",
   "execution_count": null,
   "metadata": {
    "colab": {
     "base_uri": "https://localhost:8080/",
     "height": 81
    },
    "executionInfo": {
     "elapsed": 7805,
     "status": "ok",
     "timestamp": 1642004420081,
     "user": {
      "displayName": "Jane Kotova",
      "photoUrl": "https://lh3.googleusercontent.com/a/default-user=s64",
      "userId": "11979680872757623002"
     },
     "user_tz": -180
    },
    "id": "UKz8_BkS9UXz",
    "outputId": "06514d45-9a7a-4193-d5d2-4d1cf22022ef"
   },
   "outputs": [],
   "source": [
    "# Тест нахождения конкретного ЖЦ в изменяемых файлах\n",
    "prepare_lc_df('nav_to_copy','lc_to_copy').loc[lambda x: x.lc == 'M_c.lc']"
   ]
  },
  {
   "cell_type": "markdown",
   "metadata": {
    "id": "yaTj1KXZIBEa"
   },
   "source": [
    "# Анализ формуляров проекта\n",
    "Одноименные, но расположенные в разных сервисах в гите и в мигрируемом из Студии проекте\n",
    "\n",
    "Дубликаты\n",
    "\n",
    "Новые формуляры, которые есть только в мигрируеом проекте и которых нет в гите\n",
    "\n",
    "Соответствие модели desc/ext.desc у формуляров в гите и в мигрируемом проекте"
   ]
  },
  {
   "cell_type": "code",
   "execution_count": null,
   "metadata": {
    "colab": {
     "base_uri": "https://localhost:8080/",
     "height": 52
    },
    "executionInfo": {
     "elapsed": 286,
     "status": "ok",
     "timestamp": 1642166055385,
     "user": {
      "displayName": "Jane Kotova",
      "photoUrl": "https://lh3.googleusercontent.com/a/default-user=s64",
      "userId": "11979680872757623002"
     },
     "user_tz": -180
    },
    "id": "r52dLutbLh1O",
    "outputId": "de467154-b83f-4439-cdc0-8c9310056064"
   },
   "outputs": [],
   "source": [
    "print_files_amount('git',['.desc'])\n",
    "print_files_amount('migration',['.desc'])"
   ]
  },
  {
   "cell_type": "markdown",
   "metadata": {
    "id": "z6Z4bru5i6s5"
   },
   "source": [
    "## Результаты анализа\n",
    "Уникальные - нет совпадений по имени формуляра в мигрируемом проекте и в гите, надо искать совпадения в бинарных сборках или других проектах.\n",
    "\n",
    "Одноименные - есть совпадение по имени формуляра в мирируемом проекте и в гите, можно выгружать по стандартному сценарию.\n",
    "\n",
    "Новые - новые для гита, надо выгружать по полному сценарию."
   ]
  },
  {
   "cell_type": "code",
   "execution_count": null,
   "metadata": {
    "colab": {
     "base_uri": "https://localhost:8080/",
     "height": 607
    },
    "executionInfo": {
     "elapsed": 1055,
     "status": "ok",
     "timestamp": 1642166069808,
     "user": {
      "displayName": "Jane Kotova",
      "photoUrl": "https://lh3.googleusercontent.com/a/default-user=s64",
      "userId": "11979680872757623002"
     },
     "user_tz": -180
    },
    "id": "W1EcRqyoN_G8",
    "outputId": "4530b4b2-6af1-48bc-c05b-5fd675fd27f8"
   },
   "outputs": [],
   "source": [
    "print('Найдено уникальных формуляров проекта:')\n",
    "print(len(get_pre_set('difference')))\n",
    "print('Найдено одноименных формуляров проекта: ')\n",
    "print(len(get_pre_set('the_same')))\n",
    "print('Найдено новых для гита формуляров в мигрируемом проекте: ')\n",
    "print(len(get_pre_set('new_to_git')))\n",
    "get_pre_set('new_to_git')"
   ]
  },
  {
   "cell_type": "code",
   "execution_count": null,
   "metadata": {
    "colab": {
     "base_uri": "https://localhost:8080/",
     "height": 86
    },
    "executionInfo": {
     "elapsed": 551,
     "status": "ok",
     "timestamp": 1642166075362,
     "user": {
      "displayName": "Jane Kotova",
      "photoUrl": "https://lh3.googleusercontent.com/a/default-user=s64",
      "userId": "11979680872757623002"
     },
     "user_tz": -180
    },
    "id": "h4hCybo623Pn",
    "outputId": "61cc8557-9377-43f5-b2fc-92102eec74cb"
   },
   "outputs": [],
   "source": [
    "# Проверка на уникальность\n",
    "print('Всего формуляров в гит')\n",
    "print(len(get_pre_set('git_total')))\n",
    "print('Уникальных формуляров в гит')\n",
    "print(len(get_pre_set('git_unique')))"
   ]
  },
  {
   "cell_type": "code",
   "execution_count": null,
   "metadata": {
    "colab": {
     "base_uri": "https://localhost:8080/",
     "height": 399
    },
    "executionInfo": {
     "elapsed": 548,
     "status": "ok",
     "timestamp": 1642166080289,
     "user": {
      "displayName": "Jane Kotova",
      "photoUrl": "https://lh3.googleusercontent.com/a/default-user=s64",
      "userId": "11979680872757623002"
     },
     "user_tz": -180
    },
    "id": "Q4KN-GDg5CMX",
    "outputId": "aa6a6158-780e-4203-9323-8b6a8666d8ed"
   },
   "outputs": [],
   "source": [
    "# Список дублируемых формуляров в клонированном гит репозитории\n",
    "print(len(get_pre_set('duplicated')))\n",
    "get_pre_set('duplicated')"
   ]
  },
  {
   "cell_type": "code",
   "execution_count": null,
   "metadata": {
    "colab": {
     "base_uri": "https://localhost:8080/",
     "height": 1000
    },
    "executionInfo": {
     "elapsed": 551,
     "status": "ok",
     "timestamp": 1642166085766,
     "user": {
      "displayName": "Jane Kotova",
      "photoUrl": "https://lh3.googleusercontent.com/a/default-user=s64",
      "userId": "11979680872757623002"
     },
     "user_tz": -180
    },
    "id": "Vqmk8tgO6TrM",
    "outputId": "73ced455-83ed-49b0-eaeb-c6b8107e0a29"
   },
   "outputs": [],
   "source": [
    "# Вывод в формате: файл, размер(байт), путь\n",
    "simple_print_file_path(get_pre_set('duplicated'))"
   ]
  },
  {
   "cell_type": "code",
   "execution_count": null,
   "metadata": {
    "colab": {
     "base_uri": "https://localhost:8080/",
     "height": 86
    },
    "executionInfo": {
     "elapsed": 553,
     "status": "ok",
     "timestamp": 1642166093892,
     "user": {
      "displayName": "Jane Kotova",
      "photoUrl": "https://lh3.googleusercontent.com/a/default-user=s64",
      "userId": "11979680872757623002"
     },
     "user_tz": -180
    },
    "id": "Waabiw8eBY9B",
    "outputId": "07073430-e471-4f41-c8bf-d5feeb09d156"
   },
   "outputs": [],
   "source": [
    "# Список дублируемых формуляров в мигрируемом проекте\n",
    "print('Всего формуляров в мигрируемом проекте')\n",
    "print(len(get_pre_set('migration_total')))\n",
    "print('Уникальных формуляров в мигрируемом проекте')\n",
    "print(len(get_pre_set('migration_unique')))"
   ]
  },
  {
   "cell_type": "code",
   "execution_count": null,
   "metadata": {
    "colab": {
     "base_uri": "https://localhost:8080/",
     "height": 156
    },
    "executionInfo": {
     "elapsed": 1059,
     "status": "ok",
     "timestamp": 1642166098839,
     "user": {
      "displayName": "Jane Kotova",
      "photoUrl": "https://lh3.googleusercontent.com/a/default-user=s64",
      "userId": "11979680872757623002"
     },
     "user_tz": -180
    },
    "id": "MS3BijyII6oh",
    "outputId": "13afa9d7-c299-408d-f33d-2ca6c18789a4"
   },
   "outputs": [],
   "source": [
    "# Формуляры из гита, которых нет в мигрированном из Студии2 проекте\n",
    "print('Только гит(нет в мигрируемом проекте)')\n",
    "print(len(get_pre_set('git_only')))\n",
    "print('+ гит И есть в мигрируемом проект')\n",
    "print(len(get_pre_set('the_same')))\n",
    "print('+ дубли в гите')\n",
    "print(len(get_pre_set('duplicated')))\n",
    "print('ВСЕГО формуляров в гите')\n",
    "print(len(get_pre_set('git_total')))"
   ]
  },
  {
   "cell_type": "code",
   "execution_count": null,
   "metadata": {
    "colab": {
     "base_uri": "https://localhost:8080/",
     "height": 52
    },
    "executionInfo": {
     "elapsed": 259,
     "status": "ok",
     "timestamp": 1642165661180,
     "user": {
      "displayName": "Jane Kotova",
      "photoUrl": "https://lh3.googleusercontent.com/a/default-user=s64",
      "userId": "11979680872757623002"
     },
     "user_tz": -180
    },
    "id": "kJwA8xMx3lIm",
    "outputId": "103109f5-e4ca-4362-aab8-3699d8313db5"
   },
   "outputs": [],
   "source": [
    "#поиск формуляров правильно мигрированных\n",
    "#на примере M_A.desc\n",
    "simple_print_file_path('M_A.desc')"
   ]
  },
  {
   "cell_type": "markdown",
   "metadata": {
    "id": "T90_Tcsfc2KZ"
   },
   "source": [
    "# Анализ формуляров из default.navigation\n",
    "Для копирования из бинарок\n",
    "\n",
    "Для полного копирования из мигрированного проекта\n",
    "\n",
    "Для копирования вручную из-за несоотвествия моделей desc/ext.desc\n",
    "\n",
    "Для копирования по стандартному сценарию из мигрированного проекта\n",
    "\n",
    "Из них:\n",
    "\n",
    "Базовые формуляры для копирования из бинарок\n",
    "\n",
    "Базовые формуляры для копирования по стандартному сценарию из мигрированного проекта\n",
    "\n"
   ]
  },
  {
   "cell_type": "markdown",
   "metadata": {
    "id": "Zgjf2yqbxsjY"
   },
   "source": [
    "## Результаты анализа"
   ]
  },
  {
   "cell_type": "code",
   "execution_count": null,
   "metadata": {
    "colab": {
     "base_uri": "https://localhost:8080/",
     "height": 277
    },
    "executionInfo": {
     "elapsed": 3025,
     "status": "ok",
     "timestamp": 1642166365877,
     "user": {
      "displayName": "Jane Kotova",
      "photoUrl": "https://lh3.googleusercontent.com/a/default-user=s64",
      "userId": "11979680872757623002"
     },
     "user_tz": -180
    },
    "id": "WNyPdYlV51td",
    "outputId": "5541e484-5fca-4f19-d2a1-9b1f18588551"
   },
   "outputs": [],
   "source": [
    "print('Списки формуляров: для копирования из бинарок')\n",
    "print(calc_navigation_df('nav_to_find_in_binary').shape)\n",
    "print('для полного копирования из мигрированного проекта')\n",
    "print(calc_navigation_df('nav_to_full_copy').shape)\n",
    "print('для копирования вручную из-за несоотвествия моделей desc/ext.desc')\n",
    "print(calc_navigation_df('to_manual_copy').shape)\n",
    "print('для копирования по стандартному сценарию из мигрированного проекта')\n",
    "print(calc_navigation_df('nav_to_copy').shape)\n",
    "print()\n",
    "print('Всего формуляров в навигации')\n",
    "print(len(navigation_df(get_xml_root('navigation','nav_formular','navigation'))))\n",
    "print('Базовые формуляры для копирования из бинарок')\n",
    "print(calc_navigation_df('base_to_find_in_binary').shape)\n",
    "print('Базовые формуляры для копирования по стандартному сценарию из мигрированного проекта')\n",
    "print(calc_navigation_df('base_to_copy').shape)"
   ]
  },
  {
   "cell_type": "code",
   "execution_count": null,
   "metadata": {
    "colab": {
     "base_uri": "https://localhost:8080/",
     "height": 954
    },
    "executionInfo": {
     "elapsed": 838,
     "status": "ok",
     "timestamp": 1642166658177,
     "user": {
      "displayName": "Jane Kotova",
      "photoUrl": "https://lh3.googleusercontent.com/a/default-user=s64",
      "userId": "11979680872757623002"
     },
     "user_tz": -180
    },
    "id": "7yNF7r_SgP9z",
    "outputId": "02538bfc-22f6-4c28-c0c4-bb6fe32610c3"
   },
   "outputs": [],
   "source": [
    "# Список формуляров, которые есть в навигации и в гите, которых нет в мигрируемом проекте\n",
    "# Формуляры для поиска в бинарных сборках\n",
    "simple_print_file_path (\n",
    "    get_set_from_df(\n",
    "      calc_navigation_df('nav_to_find_in_binary')\n",
    "    )\n",
    ")"
   ]
  },
  {
   "cell_type": "markdown",
   "metadata": {
    "id": "kVJ1Z7Nx56GT"
   },
   "source": [
    "## Парсинг desc и подсчет кол-ва полей"
   ]
  },
  {
   "cell_type": "code",
   "execution_count": null,
   "metadata": {
    "colab": {
     "base_uri": "https://localhost:8080/",
     "height": 34
    },
    "executionInfo": {
     "elapsed": 7331,
     "status": "ok",
     "timestamp": 1642167899195,
     "user": {
      "displayName": "Jane Kotova",
      "photoUrl": "https://lh3.googleusercontent.com/a/default-user=s64",
      "userId": "11979680872757623002"
     },
     "user_tz": -180
    },
    "id": "hAUyqQXhUKPH",
    "outputId": "419bcd51-47e0-4e56-bf30-36cc51a2b8a1"
   },
   "outputs": [],
   "source": [
    "# Тест среднего времени выполнения функции\n",
    "%timeit tuple(generator_xml_elements('migration'))"
   ]
  },
  {
   "cell_type": "code",
   "execution_count": null,
   "metadata": {
    "colab": {
     "base_uri": "https://localhost:8080/",
     "height": 173
    },
    "executionInfo": {
     "elapsed": 5711,
     "status": "ok",
     "timestamp": 1642170839543,
     "user": {
      "displayName": "Jane Kotova",
      "photoUrl": "https://lh3.googleusercontent.com/a/default-user=s64",
      "userId": "11979680872757623002"
     },
     "user_tz": -180
    },
    "id": "wUUf5uE4KDBd",
    "outputId": "b99f41c0-4b97-40da-a75c-2697ca19e1ce"
   },
   "outputs": [],
   "source": [
    "# Проверить отсутствие в списке\n",
    "# D_n.desc -- calc_navigation_df('nav_to_full_copy')\n",
    "# E_t.desc -- calc_navigation_df('to_manual_copy')\n",
    "# compare_fields_count('the_same_fields_count').loc[lambda x: x.formular == 'D_E.desc']\n",
    "print('Списки формуляров: с одинаковым числом полей')\n",
    "print(compare_fields_count('the_same_fields_count').shape)\n",
    "print('с разным числом полей')\n",
    "print(compare_fields_count('have_diff').shape)\n",
    "print()\n",
    "print('из них полей больше у формуляров из мигрируемого проекта')\n",
    "print(compare_fields_count('migration_have_big').shape)\n",
    "print('из них полей больше у формуляров из гита')\n",
    "print(compare_fields_count('git_have_big').shape)"
   ]
  },
  {
   "cell_type": "code",
   "execution_count": null,
   "metadata": {
    "colab": {
     "base_uri": "https://localhost:8080/",
     "height": 771
    },
    "executionInfo": {
     "elapsed": 1286,
     "status": "ok",
     "timestamp": 1642171291748,
     "user": {
      "displayName": "Jane Kotova",
      "photoUrl": "https://lh3.googleusercontent.com/a/default-user=s64",
      "userId": "11979680872757623002"
     },
     "user_tz": -180
    },
    "id": "AyboCMruAt4M",
    "outputId": "d0c87761-d7a0-4c59-f168-d97d34c0825d"
   },
   "outputs": [],
   "source": [
    "compare_fields_count('the_same_fields_count')"
   ]
  },
  {
   "cell_type": "code",
   "execution_count": null,
   "metadata": {
    "id": "PhwDw0XsiROO"
   },
   "outputs": [],
   "source": [
    "# Реализовать проверку исключения дубликатов формуляров\n",
    "# Список всех формуляров и их несовпадающих полей (Формуляр, {Поле1,Поле2})\n",
    "tuple(\n",
    "    compare_fields()\n",
    ")"
   ]
  },
  {
   "cell_type": "code",
   "execution_count": null,
   "metadata": {
    "colab": {
     "base_uri": "https://localhost:8080/",
     "height": 17
    },
    "executionInfo": {
     "elapsed": 5,
     "status": "ok",
     "timestamp": 1642518755055,
     "user": {
      "displayName": "Jane Kotova",
      "photoUrl": "https://lh3.googleusercontent.com/a/default-user=s64",
      "userId": "11979680872757623002"
     },
     "user_tz": -180
    },
    "id": "_Y5QtBc9uC2N",
    "outputId": "a1772bad-aa99-4b03-cb20-4269f90c31d2"
   },
   "outputs": [],
   "source": [
    "# Тестовая функция для получения списка отличающихся полей конкретного формуляра\n",
    "def test1():\n",
    "  for x in compare_fields():\n",
    "    if x[0] == 'E_D.desc':\n",
    "      return x"
   ]
  },
  {
   "cell_type": "code",
   "execution_count": null,
   "metadata": {
    "colab": {
     "base_uri": "https://localhost:8080/",
     "height": 173
    },
    "executionInfo": {
     "elapsed": 1078,
     "status": "ok",
     "timestamp": 1642518757226,
     "user": {
      "displayName": "Jane Kotova",
      "photoUrl": "https://lh3.googleusercontent.com/a/default-user=s64",
      "userId": "11979680872757623002"
     },
     "user_tz": -180
    },
    "id": "1_M2lHzfuVy5",
    "outputId": "10a75377-d491-464e-94ae-cc36f6c30cf7"
   },
   "outputs": [],
   "source": [
    "test1()"
   ]
  },
  {
   "cell_type": "code",
   "execution_count": null,
   "metadata": {
    "colab": {
     "base_uri": "https://localhost:8080/",
     "height": 206
    },
    "executionInfo": {
     "elapsed": 906,
     "status": "ok",
     "timestamp": 1642171310895,
     "user": {
      "displayName": "Jane Kotova",
      "photoUrl": "https://lh3.googleusercontent.com/a/default-user=s64",
      "userId": "11979680872757623002"
     },
     "user_tz": -180
    },
    "id": "DDl0NJ9nba3x",
    "outputId": "434ec729-892c-4c7b-b7bb-5bacfa400c1c"
   },
   "outputs": [],
   "source": [
    "# Тест сравнения названия полей в конкретном формуляре\n",
    "# Если не работает, сделать тест, что конкретный формуляр есть в папке мигрируемого проекта и в папке гита \n",
    "df_compare_fields('R_O.ext.desc')"
   ]
  },
  {
   "cell_type": "code",
   "execution_count": null,
   "metadata": {
    "colab": {
     "base_uri": "https://localhost:8080/",
     "height": 52
    },
    "executionInfo": {
     "elapsed": 617,
     "status": "ok",
     "timestamp": 1640362235098,
     "user": {
      "displayName": "Jane Kotova",
      "photoUrl": "https://lh3.googleusercontent.com/a/default-user=s64",
      "userId": "11979680872757623002"
     },
     "user_tz": -180
    },
    "id": "DBVEpBDmNSo6",
    "outputId": "a99fb7d6-326c-4350-cd2c-cb985e6f6926"
   },
   "outputs": [],
   "source": [
    "# Тест, что конкретный формуляр есть в папке мигрируемого проекта и в папке гита\n",
    "simple_print_file_path('D_F.desc')"
   ]
  },
  {
   "cell_type": "markdown",
   "metadata": {
    "id": "fHJt6QZyv44z"
   },
   "source": [
    "# Поиск и копирование ЖЦ"
   ]
  },
  {
   "cell_type": "markdown",
   "metadata": {
    "id": "3IBLWJA40xoc"
   },
   "source": [
    "## Результаты анализа"
   ]
  },
  {
   "cell_type": "code",
   "execution_count": null,
   "metadata": {
    "id": "41jKZJQZwjzS"
   },
   "outputs": [],
   "source": [
    "print('Списки жц: для копирования из мигрированного проекта')\n",
    "print(prepare_lc_df('nav_to_copy','lc_to_copy').shape)\n",
    "print('для копирования из бинарок, так как ЖЦ есть только в гите и нет в мигрируемом проекте')\n",
    "print(prepare_lc_df('nav_to_copy','lc_to_find_in_binary').shape)\n",
    "print('родительских ЖЦ')\n",
    "print(prepare_lc_df('nav_to_copy','parent_lc').shape)"
   ]
  },
  {
   "cell_type": "code",
   "execution_count": null,
   "metadata": {
    "colab": {
     "base_uri": "https://localhost:8080/",
     "height": 52
    },
    "executionInfo": {
     "elapsed": 655,
     "status": "ok",
     "timestamp": 1641810467156,
     "user": {
      "displayName": "Jane Kotova",
      "photoUrl": "https://lh3.googleusercontent.com/a/default-user=s64",
      "userId": "11979680872757623002"
     },
     "user_tz": -180
    },
    "id": "DdcNdSnmh42Q",
    "outputId": "44c36b39-397e-4676-f688-59df39dca703"
   },
   "outputs": [],
   "source": [
    "# Тест получения расположения файла ЖЦ\n",
    "simple_print_lc_path('T_c.lc')"
   ]
  },
  {
   "cell_type": "code",
   "execution_count": null,
   "metadata": {
    "colab": {
     "base_uri": "https://localhost:8080/",
     "height": 34
    },
    "executionInfo": {
     "elapsed": 8,
     "status": "ok",
     "timestamp": 1641811503972,
     "user": {
      "displayName": "Jane Kotova",
      "photoUrl": "https://lh3.googleusercontent.com/a/default-user=s64",
      "userId": "11979680872757623002"
     },
     "user_tz": -180
    },
    "id": "WCnGx9REfoO5",
    "outputId": "56bcbf4d-19d6-4ae0-8676-50364f6f7a7e"
   },
   "outputs": [],
   "source": [
    "# Тест получения статусов конкретного ЖЦ\n",
    "set(\n",
    "    elems_attrib_generator(\n",
    "      get_xml_root('path_generator', 'lc_state','lc', GIT_LC_DIR+'T_c/T_c.lc')\n",
    "))"
   ]
  },
  {
   "cell_type": "code",
   "execution_count": null,
   "metadata": {
    "colab": {
     "base_uri": "https://localhost:8080/",
     "height": 104
    },
    "executionInfo": {
     "elapsed": 27,
     "status": "ok",
     "timestamp": 1642504408464,
     "user": {
      "displayName": "Jane Kotova",
      "photoUrl": "https://lh3.googleusercontent.com/a/default-user=s64",
      "userId": "11979680872757623002"
     },
     "user_tz": -180
    },
    "id": "CvilQ18WmSRw",
    "outputId": "8b44d37e-19eb-406f-984c-9dc74332edf6"
   },
   "outputs": [],
   "source": [
    "# Тест получения переходов конкретного ЖЦ\n",
    "set(\n",
    "    elems_attrib_generator(\n",
    "      get_xml_root('path_generator', 'lc_transition','lc', MIG_LC_DIR+'T_c/T_c.lc')\n",
    "))"
   ]
  },
  {
   "cell_type": "markdown",
   "metadata": {
    "id": "wnlaPsGxx5Sa"
   },
   "source": [
    "## Получение студийной информации из статусов и переходов"
   ]
  },
  {
   "cell_type": "markdown",
   "metadata": {
    "id": "FQqTBwyWy_Fc"
   },
   "source": [
    "Переход\n",
    "```\n",
    "    <ns0:transition error-state=\"CREATED\" id=\"storeFromClientSaveFillings\" out-state=\"CREATED\">\n",
    "      <ns0:description>Сохраняет документ, созданный вручную клиентом и сохраняет параметры заполнений</ns0:description>\n",
    "      <ns0:in-states>\n",
    "        <ns0:in-state>CREATED</ns0:in-state>\n",
    "      </ns0:in-states>\n",
    "      <ns0:action>\n",
    "        <ns0:call-ref id=\"storeFromClientCall\">\n",
    "          <ns0:description>Сохранение документа</ns0:description>\n",
    "        </ns0:call-ref>\n",
    "      </ns0:action>\n",
    "    <ns2:bounds height=\"50\" width=\"100\" x=\"-133\" y=\"-100\" />\n",
    "    </ns0:transition>\n",
    "```\n",
    "Статус\n",
    "```\n",
    "<ns0:states>\n",
    "    <ns0:state system-name=\"CREATED\">\n",
    "      <ns0:edit-policy attachments=\"false\" />\n",
    "    <ns2:bounds height=\"75\" width=\"75\" x=\"0\" y=\"0\" />\n",
    "    </ns0:state>\n",
    "```"
   ]
  },
  {
   "cell_type": "code",
   "execution_count": null,
   "metadata": {
    "colab": {
     "base_uri": "https://localhost:8080/",
     "height": 173
    },
    "executionInfo": {
     "elapsed": 35,
     "status": "ok",
     "timestamp": 1642513536420,
     "user": {
      "displayName": "Jane Kotova",
      "photoUrl": "https://lh3.googleusercontent.com/a/default-user=s64",
      "userId": "11979680872757623002"
     },
     "user_tz": -180
    },
    "id": "UVy3SUOr7vrQ",
    "outputId": "aaa5d9a3-5711-4ea8-8ec7-c8fecbdfd279"
   },
   "outputs": [],
   "source": [
    "# Тест получения списка переходов и атрибутов входящих/исходящих статусов перехода для конкретного ЖЦ\n",
    "tuple(\n",
    "    gen_instate(\n",
    "        'lc_transition',\n",
    "        GIT_LC_DIR+'T_c/T_c.lc',\n",
    "        MIG_LC_DIR+'T_c/T_c.lc'\n",
    "    )\n",
    ")\n"
   ]
  },
  {
   "cell_type": "code",
   "execution_count": null,
   "metadata": {
    "id": "VkZRikXCd8lH"
   },
   "outputs": [],
   "source": [
    "# Тест изменения ЖЦ: добавляются bounds к статусам и переходам у конкретного ЖЦ\n",
    "add_bounds(GIT_LC_DIR+'T_c/T_c.lc', \n",
    "           MIG_LC_DIR+'T_c/T_c.lc')\n",
    "# Тест удаления лишних пробелов из ЖЦ\n",
    "del_whitespace(GIT_LC_DIR+'T_c/T_c.lc')"
   ]
  },
  {
   "cell_type": "code",
   "execution_count": null,
   "metadata": {
    "colab": {
     "base_uri": "https://localhost:8080/",
     "height": 52
    },
    "executionInfo": {
     "elapsed": 607,
     "status": "ok",
     "timestamp": 1642004457418,
     "user": {
      "displayName": "Jane Kotova",
      "photoUrl": "https://lh3.googleusercontent.com/a/default-user=s64",
      "userId": "11979680872757623002"
     },
     "user_tz": -180
    },
    "id": "u7QAJxCovT23",
    "outputId": "39534a43-7960-4ff2-90ff-c4544fdc024c"
   },
   "outputs": [],
   "source": [
    "# Тест получения расположения файла ЖЦ\n",
    "simple_print_lc_path('M_c.lc')"
   ]
  }
 ],
 "metadata": {
  "colab": {
   "authorship_tag": "ABX9TyM6ztzZT0A7N/FkPGX0wRyd",
   "collapsed_sections": [
    "8YTSyarjUEPh",
    "42VIJhJ-YLxt",
    "GCmv_4KQYG8r",
    "TnKRoUhR77NO",
    "bxkNvvB4a3b7",
    "TF90B2peaneI",
    "kmC9-9hojNK3",
    "K1EcuP24trBW",
    "2D4HTFa3vy81",
    "-S85KRlR5lpW",
    "GjpfBKrJIZ6I"
   ],
   "name": "Migration.ipynb",
   "provenance": [],
   "toc_visible": true
  },
  "kernelspec": {
   "display_name": "Python 3 (ipykernel)",
   "language": "python",
   "name": "python3"
  },
  "language_info": {
   "codemirror_mode": {
    "name": "ipython",
    "version": 3
   },
   "file_extension": ".py",
   "mimetype": "text/x-python",
   "name": "python",
   "nbconvert_exporter": "python",
   "pygments_lexer": "ipython3",
   "version": "3.10.2"
  }
 },
 "nbformat": 4,
 "nbformat_minor": 1
}
